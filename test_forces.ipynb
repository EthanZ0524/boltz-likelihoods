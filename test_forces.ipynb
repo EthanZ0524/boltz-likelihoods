{
 "cells": [
  {
   "cell_type": "code",
   "execution_count": 12,
   "id": "43a952d6",
   "metadata": {},
   "outputs": [],
   "source": [
    "import mdtraj as md\n",
    "import torch\n",
    "from omm import ProteinImplicit\n",
    "from tqdm import tqdm\n",
    "import h5py\n",
    "import openmm\n",
    "import numpy as np"
   ]
  },
  {
   "cell_type": "code",
   "execution_count": 10,
   "id": "7ded2635",
   "metadata": {},
   "outputs": [],
   "source": [
    "def compute_energy_from_traj(traj: md.Trajectory, amber_filename:str, num_relax_steps:int=0, temperature:float=300):\n",
    "    # Returns potential and kinetic energy for each frame in the trajectory\n",
    "    # assumes kT units with T = 300 Kelvin unless otherwise specified\n",
    "    \n",
    "    simulation_args = {\"temperature\": temperature, \"temperature_units\": \"kelvin\", \"friction\": 100.0, \"dt\": 0.00002, \"time_units\": \"picoseconds\", \"prior_weight\": None, \n",
    "                    \"integrator_to_use\": \"overdamped\", \"do_energy_minimization\": False, \"chk_freq\": 10000000, \"device\": \"OpenCL\", \"fix\":\"backbone\"}\n",
    "    solvent_args = {\"implicit_solvent\": \"OBC2\", \"implicit_solvent_kappa\": 0.1, \"implicit_solvent_kappa_length_units\": \"nanometer\"}\n",
    "\n",
    "    p = ProteinImplicit(\n",
    "        filename = amber_filename, chk=0,\n",
    "        simulation_args=simulation_args,\n",
    "        solvent_args=solvent_args,\n",
    "        save_filename = f\"./\"\n",
    "        )\n",
    "\n",
    "    gen_positions = traj.xyz # mdtraj saves in nanometers by default\n",
    "    all_pe = torch.zeros((len(gen_positions,)))\n",
    "    all_ke = torch.zeros((len(gen_positions,)))\n",
    "\n",
    "    for i, position in tqdm(enumerate(gen_positions), mininterval=10):\n",
    "        pos, pe, ke, forces = p.relax_energies(10 * position, # convert to angstroms\n",
    "                                    velocities=True,\n",
    "                                    num_relax_steps=num_relax_steps, # 0 relax steps means no relaxation, just get energies\n",
    "                                    length_units=\"angstroms\",\n",
    "                                    time_units=\"picoseconds\",\n",
    "                                    energy_units=\"kT\")\n",
    "        all_pe[i] = pe\n",
    "        all_ke[i] = ke\n",
    "\n",
    "    return all_pe, all_ke\n"
   ]
  },
  {
   "cell_type": "code",
   "execution_count": null,
   "id": "1409f910",
   "metadata": {},
   "outputs": [],
   "source": [
    "chignolin_topology = md.load_topology(\"/data2/scratch/group_scratch/cg/datasets/chignolin/chignolin.pdb\")\n",
    "frames_to_save = None  # Specify frames to save, or None to save all frames\n",
    "with h5py.File(\"/data2/scratch/group_scratch/cg/datasets/chignolin/chignolin_traj_all.hdf5\", \"r\") as file:\n",
    "    if \"positions\" not in file.keys():\n",
    "        raise ValueError(\"No positions in file\")\n",
    "    positions = file[\"positions\"]\n",
    "    length_units = file.attrs[\"length_units\"]\n",
    "    conversion_factor = getattr(openmm.unit, \n",
    "                                length_units).conversion_factor_to(openmm.unit.nanometer)\n",
    "    if frames_to_save is None:\n",
    "        frames_to_save = np.arange(positions.shape[0])\n",
    "    trajectory = md.Trajectory(positions[frames_to_save, :, :] * conversion_factor,\n",
    "                                chignolin_topology)"
   ]
  },
  {
   "cell_type": "code",
   "execution_count": 13,
   "id": "7c923509",
   "metadata": {},
   "outputs": [
    {
     "name": "stderr",
     "output_type": "stream",
     "text": [
      "/home/dunne/boltz-likelihoods/src/omm/omm.py:271: UserWarning: Check all Implicit solvent parameters (e.g. solvent)\n",
      "  warnings.warn(\"Check all Implicit solvent parameters (e.g. solvent)\")\n",
      "1000it [00:02, 352.02it/s]\n"
     ]
    }
   ],
   "source": [
    "mini_traj = trajectory[:1000]  # Use first 1000 frames for minimization\n",
    "pe, ke = compute_energy_from_traj(mini_traj, \"/data2/scratch/group_scratch/cg/datasets/chignolin/chignolin\")"
   ]
  }
 ],
 "metadata": {
  "kernelspec": {
   "display_name": "boltz-likelihoods",
   "language": "python",
   "name": "python3"
  },
  "language_info": {
   "codemirror_mode": {
    "name": "ipython",
    "version": 3
   },
   "file_extension": ".py",
   "mimetype": "text/x-python",
   "name": "python",
   "nbconvert_exporter": "python",
   "pygments_lexer": "ipython3",
   "version": "3.12.7"
  }
 },
 "nbformat": 4,
 "nbformat_minor": 5
}
