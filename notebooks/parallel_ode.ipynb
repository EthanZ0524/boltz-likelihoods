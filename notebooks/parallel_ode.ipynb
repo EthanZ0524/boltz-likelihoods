{
 "cells": [
  {
   "cell_type": "code",
   "execution_count": 1,
   "id": "7170dd87",
   "metadata": {},
   "outputs": [],
   "source": [
    "import torchode as to\n",
    "import torch\n",
    "import torch.nn as nn"
   ]
  },
  {
   "cell_type": "code",
   "execution_count": 2,
   "id": "51d402a9",
   "metadata": {},
   "outputs": [],
   "source": [
    "class Model(nn.Module):\n",
    "    def __init__(self, n_features, n_hidden):\n",
    "        super().__init__()\n",
    "        self.layers = nn.Sequential(\n",
    "            nn.Linear(n_features, n_hidden),\n",
    "            nn.Softplus(),\n",
    "            nn.Linear(n_hidden, n_hidden),\n",
    "            nn.Softplus(),\n",
    "            nn.Linear(n_hidden, n_features)\n",
    "        )\n",
    "    \n",
    "    def forward(self, t, y):\n",
    "        return self.layers(y) + torch.sin(t).unsqueeze(1) * 0.1 * y\n",
    "    \n",
    "n_features = 5\n",
    "model = Model(n_features, 16)"
   ]
  },
  {
   "cell_type": "code",
   "execution_count": null,
   "id": "3ee360a2",
   "metadata": {},
   "outputs": [],
   "source": []
  },
  {
   "cell_type": "code",
   "execution_count": 3,
   "id": "d7627d59",
   "metadata": {},
   "outputs": [],
   "source": [
    "batch_size = 16\n",
    "n_steps = 2\n",
    "y0 = torch.randn((batch_size, n_features))\n",
    "t_eval = torch.linspace(0.0, 1.0, n_steps)"
   ]
  },
  {
   "cell_type": "code",
   "execution_count": 4,
   "id": "ac9a8c83",
   "metadata": {},
   "outputs": [],
   "source": [
    "def score_fn_single(t, x):\n",
    "    x = x.unsqueeze(0)  # Add batch dimension\n",
    "    t = t.unsqueeze(0)  # Add batch dimension\n",
    "    score = model(t, x)[0]  # Remove batch dimension\n",
    "    return score, score\n",
    "\n",
    "jac = torch.func.jacrev(score_fn_single, argnums=1, has_aux=True)\n",
    "def divergence_and_score_fn(t, x):\n",
    "    jacobian, score = jac(t, x)\n",
    "    divergence = jacobian.trace()\n",
    "    return divergence, score\n",
    "divergence_and_score_fn_batched = torch.func.vmap(divergence_and_score_fn, in_dims=(0, 0), out_dims=(0, 0))\n",
    "\n",
    "def batched_ode_fn(t, y):\n",
    "    x, ll = y[..., :-1], y[..., -1]\n",
    "    dll_dt, dx_dt = divergence_and_score_fn_batched(t, x) \n",
    "    return torch.cat((dx_dt, dll_dt.unsqueeze(-1)), dim=-1)"
   ]
  },
  {
   "cell_type": "code",
   "execution_count": 5,
   "id": "5619b098",
   "metadata": {},
   "outputs": [],
   "source": [
    "batch = 16\n",
    "x = torch.randn((batch, n_features))\n",
    "ll = torch.zeros((batch, 1))\n",
    "y = torch.cat((x, ll), dim=-1)"
   ]
  },
  {
   "cell_type": "code",
   "execution_count": 6,
   "id": "2c645f26",
   "metadata": {},
   "outputs": [],
   "source": [
    "term = to.ODETerm(batched_ode_fn)\n",
    "step_method = to.Dopri5(term=term)\n",
    "step_size_controller = to.IntegralController(atol=1e-9, rtol=1e-7, term=term)\n",
    "adjoint = to.AutoDiffAdjoint(step_method, step_size_controller)\n"
   ]
  },
  {
   "cell_type": "code",
   "execution_count": 7,
   "id": "02a4337f",
   "metadata": {},
   "outputs": [],
   "source": [
    "problem = to.InitialValueProblem(y0=torch.cat((y0, torch.zeros(y0.shape[:-1] +  (1,))), dim=-1), t_eval=t_eval.repeat((batch_size, 1)))\n",
    "sol = adjoint.solve(problem)"
   ]
  },
  {
   "cell_type": "code",
   "execution_count": 8,
   "id": "331d746f",
   "metadata": {},
   "outputs": [
    {
     "data": {
      "text/plain": [
       "torch.Size([16, 2, 6])"
      ]
     },
     "execution_count": 8,
     "metadata": {},
     "output_type": "execute_result"
    }
   ],
   "source": [
    "sol.ys.shape"
   ]
  },
  {
   "cell_type": "code",
   "execution_count": 9,
   "id": "7772f780",
   "metadata": {},
   "outputs": [
    {
     "data": {
      "text/plain": [
       "{'n_f_evals': tensor([44, 44, 44, 44, 44, 44, 44, 44, 44, 44, 44, 44, 44, 44, 44, 44]),\n",
       " 'n_steps': tensor([7, 6, 7, 6, 7, 7, 7, 7, 7, 6, 6, 6, 6, 6, 7, 7]),\n",
       " 'n_accepted': tensor([7, 6, 6, 6, 7, 7, 7, 7, 7, 6, 6, 6, 6, 6, 7, 7]),\n",
       " 'n_initialized': tensor([2, 2, 2, 2, 2, 2, 2, 2, 2, 2, 2, 2, 2, 2, 2, 2])}"
      ]
     },
     "execution_count": 9,
     "metadata": {},
     "output_type": "execute_result"
    }
   ],
   "source": [
    "sol.stats"
   ]
  },
  {
   "cell_type": "code",
   "execution_count": null,
   "id": "daaf22cd",
   "metadata": {},
   "outputs": [],
   "source": []
  }
 ],
 "metadata": {
  "kernelspec": {
   "display_name": "boltz-likelihoods",
   "language": "python",
   "name": "python3"
  },
  "language_info": {
   "codemirror_mode": {
    "name": "ipython",
    "version": 3
   },
   "file_extension": ".py",
   "mimetype": "text/x-python",
   "name": "python",
   "nbconvert_exporter": "python",
   "pygments_lexer": "ipython3",
   "version": "3.12.7"
  }
 },
 "nbformat": 4,
 "nbformat_minor": 5
}
