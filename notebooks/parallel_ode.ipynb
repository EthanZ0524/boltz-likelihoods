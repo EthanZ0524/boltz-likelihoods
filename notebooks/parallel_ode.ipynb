{
 "cells": [
  {
   "cell_type": "code",
   "execution_count": 69,
   "id": "7170dd87",
   "metadata": {},
   "outputs": [],
   "source": [
    "import torchode as to\n",
    "import torch\n",
    "import torch.nn as nn"
   ]
  },
  {
   "cell_type": "code",
   "execution_count": 70,
   "id": "51d402a9",
   "metadata": {},
   "outputs": [],
   "source": [
    "class Model(nn.Module):\n",
    "    def __init__(self, n_features, n_hidden):\n",
    "        super().__init__()\n",
    "        self.layers = nn.Sequential(\n",
    "            nn.Linear(n_features, n_hidden),\n",
    "            nn.Softplus(),\n",
    "            nn.Linear(n_hidden, n_hidden),\n",
    "            nn.Softplus(),\n",
    "            nn.Linear(n_hidden, n_features)\n",
    "        )\n",
    "    \n",
    "    def forward(self, t, y):\n",
    "        return self.layers(y) + torch.sin(t).unsqueeze(1) * 0.1 * y\n",
    "    \n",
    "n_features = 5\n",
    "model = Model(n_features, 16)"
   ]
  },
  {
   "cell_type": "code",
   "execution_count": 71,
   "id": "d7627d59",
   "metadata": {},
   "outputs": [],
   "source": [
    "batch_size = 16\n",
    "n_steps = 2\n",
    "y0 = torch.randn((batch_size, n_features))\n",
    "t_eval = torch.linspace(0.0, 1.0, n_steps)"
   ]
  },
  {
   "cell_type": "code",
   "execution_count": 90,
   "id": "ac9a8c83",
   "metadata": {},
   "outputs": [],
   "source": [
    "def score_fn_single(t, x):\n",
    "    x = x.unsqueeze(0)  # Add batch dimension\n",
    "    t = t.unsqueeze(0)  # Add batch dimension\n",
    "    score = model(t, x)[0]  # Remove batch dimension\n",
    "    return score, score\n",
    "\n",
    "jac = torch.func.jacrev(score_fn_single, argnums=1, has_aux=True)\n",
    "def divergence_and_score_fn(t, x):\n",
    "    jacobian, score = jac(t, x)\n",
    "    divergence = jacobian.trace()\n",
    "    return divergence, score\n",
    "divergence_and_score_fn_batched = torch.func.vmap(divergence_and_score_fn, in_dims=(0, 0), out_dims=(0, 0))\n",
    "\n",
    "def batched_ode_fn(t, y):\n",
    "    x, ll = y[..., :-1], y[..., -1]\n",
    "    dll_dt, dx_dt = divergence_and_score_fn_batched(t, x) \n",
    "    return torch.cat((dx_dt, dll_dt.unsqueeze(-1)), dim=-1)"
   ]
  },
  {
   "cell_type": "code",
   "execution_count": 91,
   "id": "2c645f26",
   "metadata": {},
   "outputs": [],
   "source": [
    "term = to.ODETerm(batched_ode_fn)\n",
    "step_method = to.Dopri5(term=term)\n",
    "step_size_controller = to.IntegralController(atol=1e-9, rtol=1e-7, term=term)\n",
    "adjoint = to.AutoDiffAdjoint(step_method, step_size_controller)\n"
   ]
  },
  {
   "cell_type": "code",
   "execution_count": 92,
   "id": "68808258",
   "metadata": {},
   "outputs": [
    {
     "data": {
      "text/plain": [
       "tensor([0., 0., 0., 0., 0., 0., 0., 0., 0., 0., 0., 0., 0., 0., 0., 0.])"
      ]
     },
     "execution_count": 92,
     "metadata": {},
     "output_type": "execute_result"
    }
   ],
   "source": [
    "torch.zeros(y0.shape[:-1])"
   ]
  },
  {
   "cell_type": "code",
   "execution_count": 93,
   "id": "a89bad69",
   "metadata": {},
   "outputs": [
    {
     "data": {
      "text/plain": [
       "torch.Size([16, 5])"
      ]
     },
     "execution_count": 93,
     "metadata": {},
     "output_type": "execute_result"
    }
   ],
   "source": [
    "y0.shape"
   ]
  },
  {
   "cell_type": "code",
   "execution_count": 94,
   "id": "02a4337f",
   "metadata": {},
   "outputs": [],
   "source": [
    "problem = to.InitialValueProblem(y0=torch.cat((y0, torch.zeros(y0.shape[:-1] +  (1,))), dim=-1), t_eval=t_eval.repeat((batch_size, 1)))\n",
    "sol = adjoint.solve(problem)"
   ]
  },
  {
   "cell_type": "code",
   "execution_count": 95,
   "id": "331d746f",
   "metadata": {},
   "outputs": [
    {
     "data": {
      "text/plain": [
       "tensor([[ 0.7569, -0.1904, -0.7325, -1.0537, -1.1965,  0.2043],\n",
       "        [ 0.7500, -1.2704,  0.5399,  0.2933,  0.3101,  0.1927],\n",
       "        [-0.0919, -0.1947, -0.6431,  0.4204, -0.7464,  0.2044],\n",
       "        [ 1.3058, -1.2387,  1.8141, -0.6707,  0.8087,  0.1848],\n",
       "        [-1.3181,  1.6815,  1.7555,  0.0428, -0.3510,  0.1979],\n",
       "        [-1.0591,  0.9934,  0.9641, -0.4529, -0.6001,  0.1984],\n",
       "        [ 0.9482, -0.0202, -0.4817,  0.5545,  1.3114,  0.1924],\n",
       "        [-1.5128,  2.1030, -0.1650, -1.5705,  0.2192,  0.1952],\n",
       "        [ 2.0713,  0.8621, -0.1511, -0.5245, -1.6747,  0.2104],\n",
       "        [ 0.0797,  0.4518,  0.2003, -0.1748, -0.8849,  0.2027],\n",
       "        [ 1.6497,  2.2991,  0.0074, -0.0812,  0.4267,  0.2011],\n",
       "        [ 1.3782,  0.7549, -0.5366, -1.5030, -0.0769,  0.1974],\n",
       "        [-0.3231, -1.1820, -1.1619,  0.8262, -1.2616,  0.2088],\n",
       "        [ 1.5096,  1.7350, -0.4104,  1.0505,  1.3044,  0.1996],\n",
       "        [-0.2271,  0.7034, -3.1854, -1.9670, -0.4570,  0.2025],\n",
       "        [ 0.2292, -0.5983, -1.1174,  0.0368,  0.3766,  0.1963]],\n",
       "       grad_fn=<SelectBackward0>)"
      ]
     },
     "execution_count": 95,
     "metadata": {},
     "output_type": "execute_result"
    }
   ],
   "source": [
    "sol.ys[:,-1]"
   ]
  },
  {
   "cell_type": "code",
   "execution_count": 97,
   "id": "7772f780",
   "metadata": {},
   "outputs": [
    {
     "data": {
      "text/plain": [
       "{'n_f_evals': tensor([44, 44, 44, 44, 44, 44, 44, 44, 44, 44, 44, 44, 44, 44, 44, 44]),\n",
       " 'n_steps': tensor([6, 7, 7, 6, 6, 6, 6, 6, 6, 7, 6, 6, 6, 6, 6, 6]),\n",
       " 'n_accepted': tensor([6, 7, 7, 6, 6, 6, 6, 6, 6, 7, 6, 6, 6, 6, 6, 6]),\n",
       " 'n_initialized': tensor([2, 2, 2, 2, 2, 2, 2, 2, 2, 2, 2, 2, 2, 2, 2, 2])}"
      ]
     },
     "execution_count": 97,
     "metadata": {},
     "output_type": "execute_result"
    }
   ],
   "source": [
    "sol.stats"
   ]
  },
  {
   "cell_type": "code",
   "execution_count": null,
   "id": "daaf22cd",
   "metadata": {},
   "outputs": [],
   "source": []
  }
 ],
 "metadata": {
  "kernelspec": {
   "display_name": "boltz-likelihoods",
   "language": "python",
   "name": "python3"
  },
  "language_info": {
   "codemirror_mode": {
    "name": "ipython",
    "version": 3
   },
   "file_extension": ".py",
   "mimetype": "text/x-python",
   "name": "python",
   "nbconvert_exporter": "python",
   "pygments_lexer": "ipython3",
   "version": "3.12.7"
  }
 },
 "nbformat": 4,
 "nbformat_minor": 5
}
